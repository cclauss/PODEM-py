{
 "cells": [
  {
   "cell_type": "code",
   "execution_count": 1,
   "metadata": {},
   "outputs": [],
   "source": [
    "# defining all multi-input logic gates \n",
    "\n",
    "def And (l):                            # And([1,1,1]) = 1\n",
    "    if len(l)!=0:\n",
    "        r=l[0]\n",
    "    for x in range(1,len(l)):\n",
    "        r=l[x] and r\n",
    "    return r\n",
    "def Or (l):                            # Or([1,0]) = 1\n",
    "    if len(l) !=0:\n",
    "        r=l[0]\n",
    "    for x in range(1,len(l)):\n",
    "        r=l[x] or r\n",
    "    return r \n",
    "def Not(a):                           # Not(1) = 0\n",
    "    return int(not a) \n",
    "def Nand (l):                         # Nand([1,1,1]) = 0\n",
    "    return int(not And(l))\n",
    "def Nor (l):                          # Nor([1,0,0]) = 0\n",
    "    return int(not Or(l))\n",
    "def xor (a,b):                        # xor(1,1) = 0, 2-level gate xor with x small\n",
    "    if a == b :\n",
    "        return 0\n",
    "    else :\n",
    "        return 1 \n",
    "def Xor (l):                         # Xor ([1,1,1]) = 1 , multi-level gate with capital X in Xor \n",
    "    if len(l) != 0:\n",
    "        r=xor(l[0],l[1])\n",
    "    for x in range(2,len(l)):\n",
    "        r=xor(r,l[x])\n",
    "    return r\n",
    "def Xnor (l):                       # Xnor([1,1,1]) = 0 \n",
    "    return int(not Xor(l))\n",
    "# print(And([1,1,1]),Or ([1,0]),Not(0),Nand([1,0]),Nor([1,0,0]),Xor([1,1,0]),Xnor([1,1,1]))"
   ]
  },
  {
   "cell_type": "code",
   "execution_count": 2,
   "metadata": {},
   "outputs": [],
   "source": [
    "# instructions for writing a equation \n",
    "# first make a list of all input pins as \n",
    "#  input = [\"A\",\"B\"]\n",
    "#  similerly the output pin \n",
    "#  output = [\"O\"]\n",
    "#  then we need to give the circuit diagram and a stuck at fault site by :\n",
    "#  o =  write the equation in reverse order from output, like for simple and gate \n",
    "#  o = And([l[0],l[1]])\n",
    "#  place the l[i], in place of variable you want to give at that position \n",
    "#  similerly give ot = just the same equation with stuck at fault value assigned in place of its output.\n",
    "#  here are 2 examples given for understanding "
   ]
  },
  {
   "cell_type": "code",
   "execution_count": 3,
   "metadata": {},
   "outputs": [],
   "source": [
    "# circuit 1\n",
    "inputs = [\"A\",\"B\",\"C\",\"D\",\"E\"]\n",
    "output = [\"O\"]\n",
    "# --------------------------\n",
    "l=[]\n",
    "for x in range(len(inputs)):\n",
    "    l.append(0)"
   ]
  },
  {
   "cell_type": "code",
   "execution_count": 4,
   "metadata": {},
   "outputs": [],
   "source": [
    "# circuit diagram \n",
    "# l[0]=>a\n",
    "# l[1]=>b\n",
    "# l[2]=>c\n",
    "# l[3]=>d\n",
    "def o(l):  \n",
    "    o =  And([Xor([And([l[0],l[1]]),Or([l[2],l[3]])]),l[4]])\n",
    "    return o\n",
    "def ot(l):\n",
    "    ot =  And([Xor([And([l[0],l[1]]),Or([l[2],l[3]])]),0])\n",
    "    return ot"
   ]
  },
  {
   "cell_type": "code",
   "execution_count": 5,
   "metadata": {},
   "outputs": [],
   "source": [
    "# circuit 2\n",
    "inputs = [\"I0\",\"I1\",\"I3\",\"I4\",\"S0\",\"S1\"]\n",
    "output = [\"O\"]\n",
    "# --------------------------\n",
    "l=[]\n",
    "for x in range(len(inputs)):\n",
    "    l.append(0)"
   ]
  },
  {
   "cell_type": "code",
   "execution_count": 6,
   "metadata": {},
   "outputs": [],
   "source": [
    "# Mux 4-2-1\n",
    "# l[0]=>I0\n",
    "# l[1]=>I1\n",
    "# l[2]=>I3\n",
    "# l[3]=>I4\n",
    "# l[4]=>S0\n",
    "# l[5]=>S1\n",
    "def o(l):\n",
    "    o = Or([And([l[0],Not(l[4]),Not(l[5])]),And([l[1],l[4],Not(l[5])]),And([l[2],Not(l[4]),l[5]]),And([l[3],l[4],l[5]])])\n",
    "    return o\n",
    "def ot(l):\n",
    "    ot = Or([And([l[0],Not(l[4]),1]),And([l[1],l[4],Not(l[5])]),And([l[2],Not(l[4]),l[5]]),And([l[3],l[4],l[5]])])\n",
    "\n",
    "    return ot"
   ]
  },
  {
   "cell_type": "code",
   "execution_count": 7,
   "metadata": {},
   "outputs": [],
   "source": [
    "t=[]\n",
    "for x in range(2**len(inputs)):\n",
    "    s=list(bin(x))\n",
    "    s.pop(0)\n",
    "    s.pop(0)\n",
    "    s=list(map(int,s))\n",
    "    if len (s)<len(l):\n",
    "        for x in range(len(l)-len(s)):\n",
    "            s.insert(0,0)\n",
    "    t.append(s)\n",
    "    \n",
    "# print(t)"
   ]
  },
  {
   "cell_type": "code",
   "execution_count": 8,
   "metadata": {},
   "outputs": [
    {
     "name": "stdout",
     "output_type": "stream",
     "text": [
      "[[1, 0, 0, 0, 0, 1], [1, 0, 0, 1, 0, 1], [1, 1, 0, 0, 0, 1], [1, 1, 0, 1, 0, 1]]\n"
     ]
    }
   ],
   "source": [
    "s=[]\n",
    "for x in t:\n",
    "#     print(o(x),\",\",ot(x))\n",
    "    if o(x) != ot(x):\n",
    "        s.append(x)\n",
    "print(s)\n"
   ]
  },
  {
   "cell_type": "code",
   "execution_count": 9,
   "metadata": {},
   "outputs": [],
   "source": [
    "f=open(\"test.txt\",\"w+\")\n",
    "f.write(\"Following input vectors can be used to detect stuck at fault in circuit. \\n\")\n",
    "f.write(\"\\n\")\n",
    "for x in s:\n",
    "    for y in range(len(x)):\n",
    "        f.write(str(inputs[y]+\": \"+str(x[y])+\" \"))\n",
    "    f.write(\"\\n\")\n",
    "f.close()"
   ]
  },
  {
   "cell_type": "code",
   "execution_count": null,
   "metadata": {},
   "outputs": [],
   "source": []
  }
 ],
 "metadata": {
  "kernelspec": {
   "display_name": "Python 3",
   "language": "python",
   "name": "python3"
  },
  "language_info": {
   "codemirror_mode": {
    "name": "ipython",
    "version": 3
   },
   "file_extension": ".py",
   "mimetype": "text/x-python",
   "name": "python",
   "nbconvert_exporter": "python",
   "pygments_lexer": "ipython3",
   "version": "3.6.7"
  }
 },
 "nbformat": 4,
 "nbformat_minor": 2
}
